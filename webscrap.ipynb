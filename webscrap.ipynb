{
 "cells": [
  {
   "cell_type": "code",
   "execution_count": 1,
   "metadata": {},
   "outputs": [
    {
     "name": "stdout",
     "output_type": "stream",
     "text": [
      "<table class=\"table-auto w-full text-base1 text-center\"><thead><tr><th></th><th>0</th><th>1</th><th>2</th><th>3</th><th>4</th><th>5</th><th>6</th><th>7</th><th>8</th></tr></thead><tbody><tr><td>C</td><td @click=\"play('c0')\">16.35</td><td @click=\"play('c1')\">32.7</td><td @click=\"play('c2')\">65.41</td><td @click=\"play('c3')\">130.81</td><td @click=\"play('c4')\">261.63</td><td @click=\"play('c5')\">523.25</td><td @click=\"play('c6')\">1046.5</td><td @click=\"play('c7')\">2093</td><td @click=\"play('c8')\">4186</td></tr><tr><td>C#</td><td @click=\"play('c#0')\">17.32</td><td @click=\"play('c#1')\">34.65</td><td @click=\"play('c#2')\">69.3</td><td @click=\"play('c#3')\">138.59</td><td @click=\"play('c#4')\">277.18</td><td @click=\"play('c#5')\">554.37</td><td @click=\"play('c#6')\">1108.73</td><td @click=\"play('c#7')\">2217.46</td><td @click=\"play('c#8')\">4434.92</td></tr><tr><td>D</td><td @click=\"play('d0')\">18.35</td><td @click=\"play('d1')\">36.71</td><td @click=\"play('d2')\">73.42</td><td @click=\"play('d3')\">146.83</td><td @click=\"play('d4')\">293.66</td><td @click=\"play('d5')\">587.33</td><td @click=\"play('d6')\">1174.66</td><td @click=\"play('d7')\">2349.32</td><td @click=\"play('d8')\">4698.63</td></tr><tr><td>D#</td><td @click=\"play('d#0')\">19.45</td><td @click=\"play('d#1')\">38.89</td><td @click=\"play('d#2')\">77.78</td><td @click=\"play('d#3')\">155.56</td><td @click=\"play('d#4')\">311.13</td><td @click=\"play('d#5')\">622.25</td><td @click=\"play('d#6')\">1244.51</td><td @click=\"play('d#7')\">2489</td><td @click=\"play('d#8')\">4978</td></tr><tr><td>E</td><td @click=\"play('e0')\">20.6</td><td @click=\"play('e1')\">41.2</td><td @click=\"play('e2')\">82.41</td><td @click=\"play('e3')\">164.81</td><td @click=\"play('e4')\">329.63</td><td @click=\"play('e5')\">659.25</td><td @click=\"play('e6')\">1318.51</td><td @click=\"play('e7')\">2637</td><td @click=\"play('e8')\">5274</td></tr><tr><td>F</td><td @click=\"play('f0')\">21.83</td><td @click=\"play('f1')\">43.65</td><td @click=\"play('f2')\">87.31</td><td @click=\"play('f3')\">174.61</td><td @click=\"play('f4')\">349.23</td><td @click=\"play('f5')\">698.46</td><td @click=\"play('f6')\">1396.91</td><td @click=\"play('f7')\">2793.83</td><td @click=\"play('f8')\">5587.65</td></tr><tr><td>F#</td><td @click=\"play('f#0')\">23.12</td><td @click=\"play('f#1')\">46.25</td><td @click=\"play('f#2')\">92.5</td><td @click=\"play('f#3')\">185</td><td @click=\"play('f#4')\">369.99</td><td @click=\"play('f#5')\">739.99</td><td @click=\"play('f#6')\">1479.98</td><td @click=\"play('f#7')\">2959.96</td><td @click=\"play('f#8')\">5919.91</td></tr><tr><td>G</td><td @click=\"play('g0')\">24.5</td><td @click=\"play('g1')\">49</td><td @click=\"play('g2')\">98</td><td @click=\"play('g3')\">196</td><td @click=\"play('g4')\">392</td><td @click=\"play('g5')\">783.99</td><td @click=\"play('g6')\">1567.98</td><td @click=\"play('g7')\">3135.96</td><td @click=\"play('g8')\">6271.93</td></tr><tr><td>G#</td><td @click=\"play('g#0')\">25.96</td><td @click=\"play('g#1')\">51.91</td><td @click=\"play('g#2')\">103.83</td><td @click=\"play('g#3')\">207.65</td><td @click=\"play('g#4')\">415.3</td><td @click=\"play('g#5')\">830.61</td><td @click=\"play('g#6')\">1661.22</td><td @click=\"play('g#7')\">3322.44</td><td @click=\"play('g#8')\">6644.88</td></tr><tr><td>A</td><td @click=\"play('a0')\">27.5</td><td @click=\"play('a1')\">55</td><td @click=\"play('a2')\">110</td><td @click=\"play('a3')\">220</td><td @click=\"play('a4')\" class=\"highlight\">440</td><td @click=\"play('a5')\">880</td><td @click=\"play('a6')\">1760</td><td @click=\"play('a7')\">3520</td><td @click=\"play('a8')\">7040</td></tr><tr><td>A#</td><td @click=\"play('a#0')\">29.14</td><td @click=\"play('a#1')\">58.27</td><td @click=\"play('a#2')\">116.54</td><td @click=\"play('a#3')\">233.08</td><td @click=\"play('a#4')\">466.16</td><td @click=\"play('a#5')\">932.33</td><td @click=\"play('a#6')\">1864.66</td><td @click=\"play('a#7')\">3729.31</td><td @click=\"play('a#8')\">7458.62</td></tr><tr><td>B</td><td @click=\"play('b0')\">30.87</td><td @click=\"play('b1')\">61.74</td><td @click=\"play('b2')\">123.47</td><td @click=\"play('b3')\">246.94</td><td @click=\"play('b4')\">493.88</td><td @click=\"play('b5')\">987.77</td><td @click=\"play('b6')\">1975.53</td><td @click=\"play('b7')\">3951</td><td @click=\"play('b8')\">7902.13</td></tr></tbody></table>\n",
      "  Unnamed: 0      0      1      2       3       4       5        6        7  \\\n",
      "0          C  16.35  32.70  65.41  130.81  261.63  523.25  1046.50  2093.00   \n",
      "1         C#  17.32  34.65  69.30  138.59  277.18  554.37  1108.73  2217.46   \n",
      "2          D  18.35  36.71  73.42  146.83  293.66  587.33  1174.66  2349.32   \n",
      "3         D#  19.45  38.89  77.78  155.56  311.13  622.25  1244.51  2489.00   \n",
      "4          E  20.60  41.20  82.41  164.81  329.63  659.25  1318.51  2637.00   \n",
      "\n",
      "         8  \n",
      "0  4186.00  \n",
      "1  4434.92  \n",
      "2  4698.63  \n",
      "3  4978.00  \n",
      "4  5274.00  \n"
     ]
    }
   ],
   "source": [
    "import pandas as pd\n",
    "from selenium import webdriver\n",
    "from bs4 import BeautifulSoup\n",
    "import requests\n",
    "import html5lib\n",
    "\n",
    "url = 'https://muted.io/note-frequencies/'\n",
    "load_web_page = requests.get(url)\n",
    "page = BeautifulSoup(load_web_page.content, 'html.parser')\n",
    "page\n",
    "req_table = page.find(\"table\", {\"class\" : \"table-auto w-full text-base1 text-center\"})\n",
    "print(req_table)\n",
    "df = pd.read_html(str(req_table))[0]\n",
    "print(df.head(5))\n",
    "df.to_excel(\"freq.xlsx\", sheet_name='Sheet1', index=False)"
   ]
  },
  {
   "cell_type": "code",
   "execution_count": null,
   "metadata": {},
   "outputs": [],
   "source": []
  }
 ],
 "metadata": {
  "interpreter": {
   "hash": "63fd5069d213b44bf678585dea6b12cceca9941eaf7f819626cde1f2670de90d"
  },
  "kernelspec": {
   "display_name": "Python 3.9.2 64-bit",
   "language": "python",
   "name": "python3"
  },
  "language_info": {
   "codemirror_mode": {
    "name": "ipython",
    "version": 3
   },
   "file_extension": ".py",
   "mimetype": "text/x-python",
   "name": "python",
   "nbconvert_exporter": "python",
   "pygments_lexer": "ipython3",
   "version": "3.9.2"
  },
  "orig_nbformat": 4
 },
 "nbformat": 4,
 "nbformat_minor": 2
}
